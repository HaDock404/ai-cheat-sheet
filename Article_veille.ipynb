{
 "cells": [
  {
   "cell_type": "markdown",
   "metadata": {},
   "source": [
    "## Blogs\n",
    "\n",
    "[fastml](https://fastml.com/)\n",
    "</br>\n",
    "[Machine Learning Mastery](https://machinelearningmastery.com/)\n",
    "</br>\n",
    "[kdnuggets](https://www.kdnuggets.com/)\n",
    "</br>\n",
    "[Import AI](https://jack-clark.net/)\n",
    "</br>\n",
    "[MIT Tech Review](https://www.technologyreview.com/)\n",
    "</br>\n",
    "[MIT new ML](https://news.mit.edu/topic/machine-learning)\n",
    "</br>\n",
    "[datascienceweekly](https://datascienceweekly.substack.com/)"
   ]
  },
  {
   "cell_type": "markdown",
   "metadata": {},
   "source": [
    "## Newsletter\n",
    "\n",
    "[dataelixir](https://dataelixir.com/)\n",
    "</br>\n",
    "[datascienceweekly](https://www.datascienceweekly.org/)"
   ]
  },
  {
   "cell_type": "markdown",
   "metadata": {},
   "source": [
    "## Articles de recherche\n",
    "\n",
    "[arxiv.org](https://arxiv.org/)\n",
    "</br>\n",
    "[Google Scholar](https://scholar.google.fr/)\n",
    "</br>\n",
    "[paperswithcode](https://paperswithcode.com/)"
   ]
  },
  {
   "cell_type": "markdown",
   "metadata": {},
   "source": []
  }
 ],
 "metadata": {
  "language_info": {
   "name": "python"
  }
 },
 "nbformat": 4,
 "nbformat_minor": 2
}
