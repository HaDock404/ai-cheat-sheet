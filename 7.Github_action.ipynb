{
 "cells": [
  {
   "cell_type": "markdown",
   "metadata": {},
   "source": [
    "# Création d'automatisation des tests unitaires dans Github Action"
   ]
  },
  {
   "cell_type": "markdown",
   "metadata": {},
   "source": [
    "Créer un fichier ```.github/workflows/python-app.yml```à la racine du projet :"
   ]
  },
  {
   "cell_type": "markdown",
   "metadata": {},
   "source": [
    "```yaml\n",
    "name: Python CI\n",
    "\n",
    "on:\n",
    "  push:\n",
    "    branches:\n",
    "      - main\n",
    "  pull_request:\n",
    "    branches:\n",
    "      - main\n",
    "\n",
    "jobs:\n",
    "  test:\n",
    "    runs-on: ubuntu-latest\n",
    "\n",
    "    steps:\n",
    "    - name: Checkout repository\n",
    "      uses: actions/checkout@v2\n",
    "\n",
    "    - name: Set up Python\n",
    "      uses: actions/setup-python@v2\n",
    "      with:\n",
    "        python-version: 3.8\n",
    "\n",
    "    - name: Install dependencies\n",
    "      run: |\n",
    "        python -m pip install --upgrade pip\n",
    "        pip install flake8 pytest\n",
    "        if [ -f packages/requirements.txt ]; then pip install -r packages/requirements.txt; fi\n",
    "\n",
    "    - name: Run tests\n",
    "      run: pytest\n",
    "```"
   ]
  },
  {
   "cell_type": "markdown",
   "metadata": {},
   "source": [
    "Créer un fichier ```setup.cfg```à la racine :"
   ]
  },
  {
   "cell_type": "markdown",
   "metadata": {},
   "source": [
    "```cfg\n",
    "[metadata]\n",
    "name = NomDuProjet\n",
    "\n",
    "[tool:pytest]\n",
    "addopts = -v\n",
    "```"
   ]
  },
  {
   "cell_type": "markdown",
   "metadata": {},
   "source": []
  }
 ],
 "metadata": {
  "language_info": {
   "name": "python"
  }
 },
 "nbformat": 4,
 "nbformat_minor": 2
}
