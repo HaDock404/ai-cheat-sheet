{
 "cells": [
  {
   "cell_type": "markdown",
   "metadata": {},
   "source": [
    "## Methode STAR\n",
    "\n",
    "La méthode STAR est une approche structurée pour répondre aux questions comportementales en entretien d'embauche. Elle est particulièrement efficace pour montrer vos compétences et expériences par des exemples concrets, qui sont précisément ce que recherchent les recruteurs pour évaluer votre capacité à gérer des situations similaires dans leur organisation."
   ]
  },
  {
   "cell_type": "markdown",
   "metadata": {},
   "source": [
    "### Que signifie la méthode STAR ?\n",
    "\n",
    "La méthode STAR est un acronyme pour :\n",
    "\n",
    "1. Situation : Décrivez la situation ou le contexte.\n",
    "2. Tâche : Expliquez la tâche ou l'objectif que vous deviez accomplir.\n",
    "3. Action : Détaillez les actions spécifiques que vous avez entreprises.\n",
    "4. Résultat : Mentionnez le résultat de vos actions, idéalement quantifiable."
   ]
  },
  {
   "cell_type": "markdown",
   "metadata": {},
   "source": [
    "### Pourquoi la méthode STAR est-elle importante ?\n",
    "\n",
    "Elle aide à structurer vos réponses, ce qui permet de :\n",
    "- Montrer vos compétences pratiques, au-delà de vos diplômes et qualifications.\n",
    "- Illustrer vos réussites et votre manière de résoudre les problèmes.\n",
    "- Rendre vos réponses claires, précises et pertinentes pour le poste."
   ]
  },
  {
   "cell_type": "markdown",
   "metadata": {},
   "source": [
    "### Comment fonctionne la méthode STAR ?\n",
    "\n",
    "#### 1. Situation\n",
    "\n",
    "Décrivez un contexte spécifique, un défi ou un projet auquel vous avez été confronté dans le passé. Soyez concis, mais fournissez suffisamment de détails pour que le recruteur comprenne bien la situation.\n",
    "\n",
    "<strong>Exemple</strong> : \"Lors de mon poste précédent chez TotalEnergies, j'étais en charge d'analyser les performances mensuelles d'un projet de transition énergétique.\""
   ]
  },
  {
   "cell_type": "markdown",
   "metadata": {},
   "source": [
    "#### 2. Tâche\n",
    "Expliquez ce que vous deviez accomplir ou l’objectif que vous deviez atteindre dans cette situation. La tâche est le défi ou le rôle que vous avez joué dans la situation.\n",
    "\n",
    "<strong>Exemple</strong> : \"Ma tâche était d’identifier les sources de gaspillage d’énergie pour proposer des solutions d'optimisation.\""
   ]
  },
  {
   "cell_type": "markdown",
   "metadata": {},
   "source": [
    "#### 3. Action\n",
    "Détaillez les actions spécifiques que vous avez prises pour accomplir la tâche. Mentionnez ce que vous avez fait, comment vous avez pris l'initiative et les compétences que vous avez utilisées. Concentrez-vous sur ce que vous avez fait, même si vous faisiez partie d’une équipe.\n",
    "\n",
    "<strong>Exemple</strong> : \"J’ai analysé les données historiques, collaboré avec les ingénieurs pour comprendre les opérations, et j’ai mis en place un tableau de bord pour suivre les indicateurs de performance en temps réel.\""
   ]
  },
  {
   "cell_type": "markdown",
   "metadata": {},
   "source": [
    "#### 4. Résultat\n",
    "Présentez le résultat de vos actions. Idéalement, le résultat doit être quantifiable (chiffres, pourcentages, etc.) pour illustrer l'impact concret de vos actions.\n",
    "\n",
    "<strong>Exemple</strong> : \"Grâce à cette initiative, nous avons réduit la consommation énergétique de 15 % en six mois, permettant une économie de 50 000 € par trimestre.\""
   ]
  },
  {
   "cell_type": "markdown",
   "metadata": {},
   "source": [
    "### Questions courantes basées sur la méthode STAR et conseils pour y répondre"
   ]
  },
  {
   "cell_type": "markdown",
   "metadata": {},
   "source": [
    "#### 1. Parlez-moi d'une situation où vous avez fait face à un défi professionnel et comment vous l'avez surmonté."
   ]
  },
  {
   "cell_type": "markdown",
   "metadata": {},
   "source": [
    "- S : Décrivez le défi en détail.\n",
    "- T : Expliquez ce que vous deviez accomplir pour résoudre ce problème.\n",
    "- A : Décrivez les étapes spécifiques que vous avez suivies.\n",
    "- R : Quantifiez l'impact positif de vos actions."
   ]
  },
  {
   "cell_type": "markdown",
   "metadata": {},
   "source": [
    "#### 2. Donnez un exemple de votre capacité à travailler en équipe."
   ]
  },
  {
   "cell_type": "markdown",
   "metadata": {},
   "source": [
    "- S : Parlez d'une situation où le travail en équipe était essentiel.\n",
    "- T : Décrivez votre rôle au sein de l'équipe et vos responsabilités.\n",
    "- A : Expliquez comment vous avez contribué (coordination, communication, résolution de conflits).\n",
    "- R : Résumez les résultats, comme la réalisation d'un projet plus rapidement ou l'amélioration des relations de travail."
   ]
  },
  {
   "cell_type": "markdown",
   "metadata": {},
   "source": [
    "#### 3. Racontez-moi un moment où vous avez dû gérer un conflit au travail."
   ]
  },
  {
   "cell_type": "markdown",
   "metadata": {},
   "source": [
    "- S : Décrivez le contexte et le conflit.\n",
    "- T : Mentionnez votre objectif (trouver une solution, éviter une escalade).\n",
    "- A : Expliquez comment vous avez abordé la situation.\n",
    "- R : Détaillez comment vous avez résolu le conflit et les bénéfices pour l'équipe ou l'entreprise."
   ]
  },
  {
   "cell_type": "markdown",
   "metadata": {},
   "source": [
    "#### 4. Parlez d'un projet où vous avez atteint un objectif ambitieux."
   ]
  },
  {
   "cell_type": "markdown",
   "metadata": {},
   "source": [
    "- S : Définissez le contexte du projet et les difficultés.\n",
    "- T : Expliquez l'objectif que vous deviez atteindre.\n",
    "- A : Montrez les stratégies ou approches innovantes que vous avez adoptées.\n",
    "- R : Quantifiez l'accomplissement, comme une augmentation des ventes, une réduction des coûts ou une meilleure satisfaction client."
   ]
  },
  {
   "cell_type": "markdown",
   "metadata": {},
   "source": [
    "#### 5. Donnez un exemple où vous avez dû gérer plusieurs priorités."
   ]
  },
  {
   "cell_type": "markdown",
   "metadata": {},
   "source": [
    "- S : Exposez la situation où plusieurs tâches nécessitaient votre attention.\n",
    "- T : Indiquez votre objectif principal ou le résultat attendu.\n",
    "- A : Expliquez les techniques de gestion du temps ou d'organisation utilisées.\n",
    "- R : Montrez comment cela a mené à des résultats positifs, en termes de qualité ou de respect des délais."
   ]
  },
  {
   "cell_type": "markdown",
   "metadata": {},
   "source": [
    "#### 6. Parlez-moi d'une décision difficile que vous avez dû prendre."
   ]
  },
  {
   "cell_type": "markdown",
   "metadata": {},
   "source": [
    "- S : Décrivez la situation et la difficulté de la décision.\n",
    "- T : Expliquez le résultat attendu de votre décision.\n",
    "- A : Discutez des critères utilisés pour prendre votre décision.\n",
    "- R : Montrez l'impact positif, même s’il a fallu du temps pour voir les résultats."
   ]
  },
  {
   "cell_type": "markdown",
   "metadata": {},
   "source": [
    "#### 7. Avez-vous déjà eu un échec, et qu'en avez-vous appris ?"
   ]
  },
  {
   "cell_type": "markdown",
   "metadata": {},
   "source": [
    "- S : Décrivez le contexte et l'erreur.\n",
    "- T : Expliquez ce que vous auriez dû accomplir.\n",
    "- A : Montrez ce que vous avez tenté et pourquoi cela n'a pas fonctionné.\n",
    "- R : Mentionnez les leçons apprises et comment cela a amélioré vos performances futures."
   ]
  },
  {
   "cell_type": "markdown",
   "metadata": {},
   "source": [
    "### Conseils supplémentaires pour répondre avec la méthode STAR"
   ]
  },
  {
   "cell_type": "markdown",
   "metadata": {},
   "source": [
    "1. Préparez vos histoires à l'avance : Réfléchissez aux succès, défis et échecs de vos expériences passées.  \n",
    "\n",
    "2. Soyez concis : Gardez les détails précis pour ne pas perdre l’attention du recruteur.  \n",
    "\n",
    "3. Concentrez-vous sur des résultats quantifiables : Chiffres, pourcentages ou économies réalisées renforcent l’impact de vos actions.  \n",
    "\n",
    "4. Restez humble et honnête : Admettre une erreur ou mentionner les contributions d'autres personnes montre votre capacité d’autoréflexion et votre esprit d’équipe."
   ]
  },
  {
   "cell_type": "markdown",
   "metadata": {},
   "source": [
    "En suivant la méthode STAR de manière structurée, vous serez en mesure de répondre de façon convaincante aux questions comportementales et de donner aux recruteurs une image claire de la valeur que vous pouvez apporter à leur organisation."
   ]
  },
  {
   "cell_type": "markdown",
   "metadata": {},
   "source": []
  }
 ],
 "metadata": {
  "language_info": {
   "name": "python"
  }
 },
 "nbformat": 4,
 "nbformat_minor": 2
}
