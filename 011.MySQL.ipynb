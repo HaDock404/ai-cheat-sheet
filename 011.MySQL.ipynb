{
 "cells": [
  {
   "cell_type": "markdown",
   "metadata": {},
   "source": [
    "# Utiliser MySQL"
   ]
  },
  {
   "cell_type": "markdown",
   "metadata": {},
   "source": [
    "#### Paramétrage de MySQL  \n",
    "\n",
    "```bash\n",
    "nano ~/.zshrc\n",
    "```\n",
    "```zshrc\n",
    "export PATH=\"/usr/local/mysql/bin:$PATH\"\n",
    "```\n",
    "Rechargement de la configuration\n",
    "```bash\n",
    "source ~/.zhrc\n",
    "```"
   ]
  },
  {
   "cell_type": "markdown",
   "metadata": {},
   "source": [
    "#### Connection à MySQL\n",
    "\n",
    "```bash\n",
    "mysql -u root -p\n",
    "```"
   ]
  },
  {
   "cell_type": "markdown",
   "metadata": {},
   "source": [
    "#### Création de base de données\n",
    "\n",
    "```sql\n",
    "CREATE DATABASE my_database;\n",
    "```"
   ]
  },
  {
   "cell_type": "markdown",
   "metadata": {},
   "source": [
    "#### Listing de toutes les bases de données\n",
    "\n",
    "```sql\n",
    "SHOW DATABASES;\n",
    "```"
   ]
  },
  {
   "cell_type": "markdown",
   "metadata": {},
   "source": [
    "#### Utilisation de la base de données \n",
    "\n",
    "```sql\n",
    "USE my_database\n",
    "```"
   ]
  },
  {
   "cell_type": "markdown",
   "metadata": {},
   "source": [
    "#### Création de la table\n",
    "```sql\n",
    "CREATE TABLE utilisateurs (\n",
    "    id INT AUTO_INCREMENT PRIMARY KEY,\n",
    "    nom VARCHAR(50) NOT NULL,\n",
    "    email VARCHAR(100) UNIQUE NOT NULL,\n",
    "    date_inscription DATETIME DEFAULT CURRENT_TIMESTAMP\n",
    ");\n",
    "```"
   ]
  },
  {
   "cell_type": "markdown",
   "metadata": {},
   "source": [
    "```id INT AUTO_INCREMENT PRIMARY KEY```\n",
    "- ```id``` : C'est le nom de la colonne.\n",
    "- ```INT``` : Type de données pour un entier. Il stocke des nombres (positifs ou négatifs).\n",
    "- ```AUTO_INCREMENT``` : MySQL incrémente automatiquement cette valeur à chaque nouvel enregistrement (utile pour un identifiant unique).\n",
    "- ```PRIMARY KEY``` : Spécifie que cette colonne est la clé primaire, c'est-à-dire une valeur unique pour chaque ligne. Chaque table doit avoir une clé primaire.  \n",
    "\n",
    "\n",
    "```nom VARCHAR(50) NOT NULL```\n",
    "- ```nom``` : Nom de la colonne pour stocker les noms des utilisateurs.\n",
    "- ```VARCHAR(50)``` : Type de données pour du texte d'une longueur variable, avec un maximum de 50 caractères.\n",
    "- ```NOT NULL``` : Indique que cette colonne ne peut pas être vide (obligatoire).  \n",
    "\n",
    "\n",
    "```email VARCHAR(100) UNIQUE NOT NULL```\n",
    "- ```email``` : Colonne pour stocker les adresses e-mail.\n",
    "- ```VARCHAR(100)``` : Texte avec un maximum de 100 caractères.\n",
    "- ```UNIQUE``` : Chaque valeur dans cette colonne doit être unique (pas de doublons, utile pour des e-mails).\n",
    "- ```NOT NULL``` : Indique qu'un e-mail doit être fourni pour chaque utilisateur.  \n",
    "\n",
    "\n",
    "```date_inscription DATETIME DEFAULT CURRENT_TIMESTAMP```\n",
    "- ```date_inscription``` : Colonne pour stocker la date et l'heure d'inscription.\n",
    "- ```DATETIME``` : Type de données pour une date et une heure complètes (par exemple, 2025-01-12 14:30:00).\n",
    "- ```DEFAULT CURRENT_TIMESTAMP``` : Remplit automatiquement cette colonne avec la date et l'heure actuelles au moment de l'insertion."
   ]
  },
  {
   "cell_type": "markdown",
   "metadata": {},
   "source": [
    "#### Autres types de données\n",
    "\n",
    "```Numériques```\n",
    "- ```TINYINT``` : Petit entier (-128 à 127 ou 0 à 255 si non signé).\n",
    "- ```SMALLINT``` : Entier plus grand (-32,768 à 32,767).\n",
    "- ```MEDIUMINT``` : Entier moyen (-8,388,608 à 8,388,607).\n",
    "- ```BIGINT``` : Très grand entier.\n",
    "- ```DECIMAL(p, d) ou NUMERIC(p, d)``` : Nombre décimal avec précision (p = total des chiffres, d = chiffres après la virgule).  \n",
    "\n",
    "```Textes```\n",
    "- ```CHAR(n)``` : Chaîne de texte fixe, toujours de longueur n. Exemple : CHAR(5) stocke exactement 5 caractères.\n",
    "- ```TEXT``` : Texte long (jusqu'à 64 Ko de données).\n",
    "- ```LONGTEXT``` : Texte encore plus long (jusqu'à 4 Go).  \n",
    "\n",
    "```Dates et Heures```\n",
    "- ```DATE``` : Stocke uniquement une date (2025-01-12).\n",
    "- ```TIME``` : Stocke uniquement une heure (14:30:00).\n",
    "- ```TIMESTAMP``` : Similaire à DATETIME, mais souvent utilisé pour des horodatages système.\n",
    "- ```YEAR``` : Stocke une année (2025).  \n",
    "\n",
    "```Booléens```\n",
    "- ```BOOLEAN ou TINYINT(1)``` : Représente un vrai/faux (MySQL utilise en interne 1 pour TRUE et 0 pour FALSE).  \n",
    "\n",
    "```Autres options```\n",
    "- ```DEFAULT``` : Valeur par défaut si aucune valeur n'est spécifiée.\n",
    "- ```NULL``` : Permet de stocker des valeurs vides.\n",
    "- ```UNSIGNED``` : Permet aux nombres d’être uniquement positifs.\n",
    "- ```ZEROFILL``` : Remplit les nombres avec des zéros à gauche."
   ]
  },
  {
   "cell_type": "markdown",
   "metadata": {},
   "source": [
    "#### Visualiser les tables\n",
    "\n",
    "```sql\n",
    "SHOW TABLES;\n",
    "```"
   ]
  },
  {
   "cell_type": "markdown",
   "metadata": {},
   "source": [
    "#### Détails sur une table\n",
    "\n",
    "```sql\n",
    "DESCRIBE utilisateurs;\n",
    "```"
   ]
  },
  {
   "cell_type": "markdown",
   "metadata": {},
   "source": [
    "#### Ajouter des individus à la base de données \n",
    "\n",
    "```sql\n",
    "INSERT INTO utilisateurs (nom, email) \n",
    "VALUES ('Alice Dupont', 'alice@example.com'),\n",
    "       ('Jean Martin', 'jean@example.com');\n",
    "```"
   ]
  },
  {
   "cell_type": "markdown",
   "metadata": {},
   "source": [
    "#### Mise à jour des données \n",
    "\n",
    "```sql\n",
    "UPDATE utilisateurs \n",
    "SET email = 'alice.dupont@example.com' \n",
    "WHERE nom = 'Alice Dupont';\n",
    "```"
   ]
  },
  {
   "cell_type": "markdown",
   "metadata": {},
   "source": [
    "#### Visualiser les données \n",
    "\n",
    "```sql\n",
    "SELECT * FROM utilisateurs;\n",
    "```"
   ]
  },
  {
   "cell_type": "markdown",
   "metadata": {},
   "source": [
    "#### Suppression de données\n",
    "\n",
    "```sql\n",
    "DELETE FROM utilisateurs \n",
    "WHERE nom = 'Jean Martin';\n",
    "```"
   ]
  },
  {
   "cell_type": "markdown",
   "metadata": {},
   "source": [
    "#### Suppression d'une table\n",
    "\n",
    "```sql\n",
    "DROP TABLE utilisateurs;\n",
    "````"
   ]
  },
  {
   "cell_type": "markdown",
   "metadata": {},
   "source": [
    "#### Suppression d'une base de données \n",
    "\n",
    "```sql\n",
    "DROP DATABASE web_marketing_auth\n",
    "```"
   ]
  },
  {
   "cell_type": "markdown",
   "metadata": {},
   "source": [
    "#### Exporter les données au format .csv\n",
    "\n",
    "```sql\n",
    "SELECT * FROM utilisateurs\n",
    "INTO OUTFILE '/chemin/complet/vers/fichier/utilisateurs.csv'\n",
    "FIELDS TERMINATED BY ',' \n",
    "ENCLOSED BY '\"' \n",
    "LINES TERMINATED BY '\\n';\n",
    "```"
   ]
  },
  {
   "cell_type": "markdown",
   "metadata": {},
   "source": []
  }
 ],
 "metadata": {
  "language_info": {
   "name": "python"
  }
 },
 "nbformat": 4,
 "nbformat_minor": 2
}
