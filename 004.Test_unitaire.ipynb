{
 "cells": [
  {
   "cell_type": "markdown",
   "metadata": {},
   "source": [
    "```python\n",
    "import unittest\n",
    "\n",
    "class TestApp(unittest.TestCase):\n",
    "\tdef test_exemple(self):\n",
    "\t\tvaleur1 = 10\n",
    "\t\texpect_valeur = 100\n",
    "\t\tresult = valeur1 * 10\n",
    "\t\tself.assertEqual(result, expected_valeur)\n",
    "\n",
    "if __name__ == '__main__':\n",
    "    unittest.main()\n",
    "```"
   ]
  },
  {
   "cell_type": "markdown",
   "metadata": {},
   "source": [
    "```bash\n",
    "python test_main.py -v\n",
    "```"
   ]
  },
  {
   "cell_type": "markdown",
   "metadata": {},
   "source": []
  }
 ],
 "metadata": {
  "language_info": {
   "name": "python"
  }
 },
 "nbformat": 4,
 "nbformat_minor": 2
}
