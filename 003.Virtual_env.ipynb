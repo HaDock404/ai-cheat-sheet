{
 "cells": [
  {
   "cell_type": "markdown",
   "metadata": {},
   "source": [
    "## Virtual environnement"
   ]
  },
  {
   "cell_type": "markdown",
   "metadata": {},
   "source": [
    "L'objectif d'un environnement virtuel est d'avoir un environnement qui ne sera pas affecté par les librairies inutiles dans un projet qui pourrait influencer le bon fonctionnement des programmes. Et pous également supprimer facilement toutes les librairies d'un projet une fois celui ci terminé"
   ]
  },
  {
   "cell_type": "markdown",
   "metadata": {},
   "source": [
    "Voici la commande permettant de visualiser tous les environnements virtuels disponible sur la machine :  \n",
    "```bash\n",
    "conda env list\n",
    "```"
   ]
  },
  {
   "cell_type": "markdown",
   "metadata": {},
   "source": [
    "Supprimer ```default base```:\n",
    "```bash\n",
    "conda config --set auto_activate_base false\n",
    "```"
   ]
  },
  {
   "cell_type": "markdown",
   "metadata": {},
   "source": [
    "Créer un nouvelle environnement virtuel : \n",
    "```bash\n",
    "conda create —-name NomDuProjet python=3.10.9\n",
    "```"
   ]
  },
  {
   "cell_type": "markdown",
   "metadata": {},
   "source": [
    "Activer l’environnement virtuel :\n",
    "```bash\n",
    "conda activate NomDuProjet\n",
    "```"
   ]
  },
  {
   "cell_type": "markdown",
   "metadata": {},
   "source": [
    "Désactiver l'environnement virtuel :\n",
    "```bash\n",
    "conda deactivate\n",
    "```"
   ]
  },
  {
   "cell_type": "markdown",
   "metadata": {},
   "source": [
    "Supprimer un environnement\n",
    "```bash\n",
    "conda remove --name NomDuProjet --all\n",
    "```"
   ]
  },
  {
   "cell_type": "markdown",
   "metadata": {},
   "source": [
    "### Réaliser l'enregistrement des librairies de l'environnement pour une utilisation ultérieur\n",
    "\n",
    "Nous pouvons stocker la liste des bibliothèques dans un fichier requirements.txt pour les ré-utiliser ailleurs en les installant avec la même version."
   ]
  },
  {
   "cell_type": "markdown",
   "metadata": {},
   "source": [
    "Avec conda faire la commande spécial :\n",
    "```bash\n",
    "pip list --format=freeze --local > requirements.txt\n",
    "```"
   ]
  },
  {
   "cell_type": "markdown",
   "metadata": {},
   "source": [
    "Sinon faire simplement \n",
    "```bash\n",
    "pip freeze > requirements.txt\n",
    "```"
   ]
  },
  {
   "cell_type": "markdown",
   "metadata": {},
   "source": [
    "### Pour installer les bibliothèques dans un nouvel environnement"
   ]
  },
  {
   "cell_type": "markdown",
   "metadata": {},
   "source": [
    "```bash\n",
    "pip install -r requirements.txt\n",
    "```"
   ]
  },
  {
   "cell_type": "markdown",
   "metadata": {},
   "source": []
  }
 ],
 "metadata": {
  "language_info": {
   "name": "python"
  }
 },
 "nbformat": 4,
 "nbformat_minor": 2
}
