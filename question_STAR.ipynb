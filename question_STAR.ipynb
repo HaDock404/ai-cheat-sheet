{
 "cells": [
  {
   "cell_type": "markdown",
   "metadata": {},
   "source": [
    "#### 1. Parlez-moi d'une situation où vous avez fait face à un défi professionnel et comment vous l'avez surmonté."
   ]
  },
  {
   "cell_type": "markdown",
   "metadata": {},
   "source": [
    "- <strong>S : Décrivez le défi en détail :</strong>  \n",
    "En France les marchés de l'électricité et du gaz ont été ouvert à la concurrence le 1er Juillet 2007. De nombreux nouveaux acteurs de marché sont alors apparu et c'est dans ce contexte que j'ai intégré la société directEnergie qui était bien placé pour être le nouveau premier fournisseur privé français La société a été racheté par totalEnergie et comptait plus de 5 millions de clients. J'étais rattaché au service marché public, qui est une entité vraiment indépendante avec ses propres outils et son propre fonctionnement. Les marchés public ne sont pas forcément un secteur sur lesquels les fournisseurs réalisaient une grosse marge, les prix étaient tiré vers le bas pour être le plus compétitif possible. Et malgré l'importance de TotalEnergie, à cette époque nous n'avions pas les outils nécessaires. Lorsque Total Energie a remporté le plus gros marché public d'énergie UGAP. Nous n'étions plus en mesure de répondre à la demande pour permettre le nettoyage, l'agrégation, et l'analyse de millier de point en energie. De plus nous devions gérer l'intégration des points dans notre base de données ainsi que faire le lien avec le gestionnaire de réseau enedis.\n",
    "\n",
    "- <strong>T : Expliquez ce que vous deviez accomplir pour résoudre ce problème :</strong>  \n",
    "J'ai été chargé par les manager B2B Benjamin Salmeron et Ikram Farssi de développer avec mon équipe un outil qui simplifierait le traitement des point de livraison. Car la manipulation des données entre les services analyse, technique, et commerciaux étaient vraiment du bricolage et de nombreux problème sont survenu, je peux prendre en exemple des personnes qui n'ont pas été intégré correctement au marché de foruniture d'énergie et qui ont fait une demande de raccordement un peu trop tard, se sont retrouvé sans éléctricité pendant 2 semaines.\n",
    "\n",
    "- <strong>A : Décrivez les étapes spécifiques que vous avez suivies :</strong>  \n",
    "Cest un peu complexe mais il y avait beaucoup trop d'action manuel de nos services pour agrégé les milliers de points de livraison dans nos outils. Nos équipes devaient réaliser un travail monstrueux de manipulation de data pour parvenir à intégrer les données correctement. Nous avons donc opté pour des outils d'AWS comme AWS API gateway pour capter les données, S3 pour les stocker, AWS Lake Formation pour controler la manipualtion de donnée, Glue pour réaliser le nettoyage complexe que nous devions réaliser. Athena pour réaliser l'analyse. Nous avons mis en place de nombreuse API permettant la transmission simplifié des données aux différent services qui en avaient besoin. Tout ce travail a nécessité une étape importante de plannification de schématisation de l'infrastructure nécessaire à notre service et à ceux qui allaient être impacté. Une étape de formation, de compréhension des outils, et forcément la mise en place. Il a fallu une phase importante de rectification pour permettre d'accéder aux outils par le biais des nombreux services nécessitant leur accès mais nous sommes parvenu à un résultat satisfaisant.\n",
    "\n",
    "- <strong>R : Quantifiez l'impact positif de vos actions :</strong>  \n",
    "Le premier impact pour moi le plus important est la régularisation des erreurs d'intégration. Certains points de livraison était mal suivi et il y avait de nombreuses erreurs car les informations se perdaient ou étaient mal transmise. Ce n'est plus le cas, il n'y a plus qu'une seul méthode d'intégration, et les adhérents sont obligés de passer par une unique étape pour pouvoir être intégré. Mais le plus important est vraiment la rapidité. Il fallait en moyenne une bonne semaine entre l'intégration d'un point de livraison en électricité et la transmission des informations au gestionnaire de réseau. Désormais en moins d'une journée les informations étaient transmis et la prestation technique était d'autant accéléré."
   ]
  },
  {
   "cell_type": "markdown",
   "metadata": {},
   "source": [
    "#### 2. Donnez un exemple de votre capacité à travailler en équipe."
   ]
  },
  {
   "cell_type": "markdown",
   "metadata": {},
   "source": [
    "- <strong>S : Parlez d'une situation où le travail en équipe était essentiel :</strong>  \n",
    "\n",
    "- <strong>T : Décrivez votre rôle au sein de l'équipe et vos responsabilités :</strong>  \n",
    "\n",
    "- <strong>A : Expliquez comment vous avez contribué (coordination, communication, résolution de conflits) :</strong>  \n",
    "\n",
    "- <strong>R : Résumez les résultats, comme la réalisation d'un projet plus rapidement ou l'amélioration des relations de travail :</strong>  \n"
   ]
  },
  {
   "cell_type": "markdown",
   "metadata": {},
   "source": []
  }
 ],
 "metadata": {
  "language_info": {
   "name": "python"
  }
 },
 "nbformat": 4,
 "nbformat_minor": 2
}
