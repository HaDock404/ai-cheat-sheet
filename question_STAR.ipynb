{
 "cells": [
  {
   "cell_type": "markdown",
   "metadata": {},
   "source": [
    "#### 1. Parlez-moi d'une situation où vous avez fait face à un défi professionnel et comment vous l'avez surmonté."
   ]
  },
  {
   "cell_type": "markdown",
   "metadata": {},
   "source": [
    "- <strong>S : Décrivez le défi en détail :</strong>  \n",
    "En France les marchés de l'électricité et du gaz ont été ouvert à la concurrence le 1er Juillet 2007. De nombreux nouveaux acteurs de marché sont alors apparu et c'est dans ce contexte que j'ai intégré la société directEnergie qui était bien placé pour être le nouveau premier fournisseur privé français La société a été racheté par totalEnergie et comptait plus de 5 millions de clients. J'étais rattaché au service marché public, qui est une entité vraiment indépendante avec ses propres outils et son propre fonctionnement. Les marchés public ne sont pas forcément un secteur sur lesquels les fournisseurs réalisaient une grosse marge, les prix étaient tiré vers le bas pour être le plus compétitif possible. Et malgré l'importance de TotalEnergie, à cette époque nous n'avions pas les outils nécessaires. Lorsque Total Energie a remporté le plus gros marché public d'énergie UGAP. Nous n'étions plus en mesure de répondre à la demande pour permettre le nettoyage, l'agrégation, et l'analyse de millier de point en energie. De plus nous devions gérer l'intégration des points dans notre base de données ainsi que faire le lien avec le gestionnaire de réseau enedis.\n",
    "\n",
    "- <strong>T : Expliquez ce que vous deviez accomplir pour résoudre ce problème :</strong>  \n",
    "J'ai été chargé par les manager B2B Benjamin Salmeron et Ikram Farssi de développer avec mon équipe un outil qui simplifierait le traitement des point de livraison. Car la manipulation des données entre les services analyse, technique, et commerciaux étaient vraiment du bricolage et de nombreux problème sont survenu, je peux prendre en exemple des personnes qui n'ont pas été intégré correctement au marché de foruniture d'énergie et qui ont fait une demande de raccordement un peu trop tard, se sont retrouvé sans éléctricité pendant 2 semaines.\n",
    "\n",
    "- <strong>A : Décrivez les étapes spécifiques que vous avez suivies :</strong>  \n",
    "Cest un peu complexe mais il y avait beaucoup trop d'action manuel de nos services pour agrégé les milliers de points de livraison dans nos outils. Nos équipes devaient réaliser un travail monstrueux de manipulation de data pour parvenir à intégrer les données correctement. Nous avons donc opté pour des outils d'AWS comme AWS API gateway pour capter les données, S3 pour les stocker, AWS Lake Formation pour controler la manipualtion de donnée, Glue pour réaliser le nettoyage complexe que nous devions réaliser. Athena pour réaliser l'analyse. Nous avons mis en place de nombreuse API permettant la transmission simplifié des données aux différent services qui en avaient besoin. Tout ce travail a nécessité une étape importante de plannification de schématisation de l'infrastructure nécessaire à notre service et à ceux qui allaient être impacté. Une étape de formation, de compréhension des outils, et forcément la mise en place. Il a fallu une phase importante de rectification pour permettre d'accéder aux outils par le biais des nombreux services nécessitant leur accès mais nous sommes parvenu à un résultat satisfaisant.\n",
    "\n",
    "- <strong>R : Quantifiez l'impact positif de vos actions :</strong>  \n",
    "Le premier impact pour moi le plus important est la régularisation des erreurs d'intégration. Certains points de livraison était mal suivi et il y avait de nombreuses erreurs car les informations se perdaient ou étaient mal transmise. Ce n'est plus le cas, il n'y a plus qu'une seul méthode d'intégration, et les adhérents sont obligés de passer par une unique étape pour pouvoir être intégré. Mais le plus important est vraiment la rapidité. Il fallait en moyenne une bonne semaine entre l'intégration d'un point de livraison en électricité et la transmission des informations au gestionnaire de réseau. Désormais en moins d'une journée les informations étaient transmis et la prestation technique était d'autant accéléré."
   ]
  },
  {
   "cell_type": "markdown",
   "metadata": {},
   "source": [
    "#### 2. Donnez un exemple de votre capacité à travailler en équipe."
   ]
  },
  {
   "cell_type": "markdown",
   "metadata": {},
   "source": [
    "- <strong>S : Parlez d'une situation où le travail en équipe était essentiel :</strong>  \n",
    "J'ai eu l'occasion d'être chef de chantier durant 4 mois pour pratiquer mon leadership au sein d'une équipe. J'avais acquis une certaine expérience du terrain et du management et j'ai décidé de m'affirmer en m'expliquant dans la réfection d'une immeuble parisien de 6étages. \n",
    "- <strong>T : Décrivez votre rôle au sein de l'équipe et vos responsabilités :</strong>  \n",
    "J'étais celui par qui toutes les informations sur le terrain passaient et celui qui devait prendre les décisions rapidement. Mais c'était avant tout un travail d'équipe, car je ne pouvais pas connaitre toutes les spécialités et les manières d'arriver au succès du chantier. J'avais donc vraiment intégré l'avis et les suggestions des ouvriers à ma méthode de travail car c'était eux qui connaissait le mieux la réalité de leur métier et nous avons travaillé en simbiose durant tout ce temps, c'était extrêment enrichissant car il y avait un véritable lien qui s'était créé avec un échange régulier. J'ai beaucoup apprécié apprendre et échanger avec eux\n",
    "- <strong>A : Expliquez comment vous avez contribué (coordination, communication, résolution de conflits) :</strong>  \n",
    "J'étais le principal moyen d'échange entre les clients et le conducteur de travaux et la réalité du terrain. Il était nécessaire d'adapter la communication, de remonter les bonnes informations, d'anticiper et d'organiser le travail pour satisfaire les acteurs du projet. Les retards pouvaient arriver en fonction de l'approvisionnement en matière premiere, des accidents qui pouvaient arriver. Du bon vouloir des locataires. Cétait un travail qui nécessitait une très grande implication de ma part, tant sur le plan relationnel que physique. Nous n'avions pas d'ascenseur et je passais ma journée à monter et descendre les étages pour suivre l'avancé du chantier.\n",
    "- <strong>R : Résumez les résultats, comme la réalisation d'un projet plus rapidement ou l'amélioration des relations de travail :</strong>  \n",
    "Ce que je peux en dire c'est que mon directeur était vraiment très satisfait de mon travail, nous avons énormément avancé sur le chantier durant ma présence, et le client ainsi que les locataires en voyant mon implication on essayé de me débaucher. C'était assez gratifiant de voir son travail payer. J'ai du abandonner mon poste car la charge physique était vraiment trop importante, j'ai perdu 10 kilos en 4 mois, j'étais épuisé en permanence, les 6 étages m'épuisaient toujours plus chaque jour, et la charge de responsabilité à mon âge était vraiment trop importante, et j'étais vraiment impliqué dans la sécurité mais on ne me donnait pas les moyens de l'assurer correctement. J'ai eu l'opportunité d'intégrer direct energie à un poste très intéressant, je l'ai saisi."
   ]
  },
  {
   "cell_type": "markdown",
   "metadata": {},
   "source": [
    "#### 3. Racontez-moi un moment où vous avez dû gérer un conflit au travail."
   ]
  },
  {
   "cell_type": "markdown",
   "metadata": {},
   "source": [
    "- <strong>S : Décrivez le contexte et le conflit :</strong>  \n",
    "Je suis quelqu'un avec un tempérament assez calme, j'évite le conflit direct et je pose mes mots pour expliquer calmement et dans le respect mon point de vu avec une personne. Si un situation deviant trop conflictuel je rappel à la personne l'importance d'un échange cordial afin d'avancer sur le sujet. Malheureusement lorsque j'ai commencé ma carrière en étant étudiant, j'ai travaillé durant mes vacances scolaires dans l'industrie du bois. Et j'étais peu considéré par les autres ouvriers qui me considérait comme un larbin et usait de leur peu d'autorité sur moi. J'étais plutot mal traité durant cette période par des adultes bien installé et c'était difficile pour moi de trouver ma place et me défendre car je ne connaissais pas bien le monde du travail.\n",
    "- <strong>T : Mentionnez votre objectif (trouver une solution, éviter une escalade) :</strong>  \n",
    "Mon objectif était de me faire le plus discret possible et d'éviter au maximum de faire des erreurs pour qu'on me laisse tranquille et éviter les reproches.\n",
    "- <strong>A : Expliquez comment vous avez abordé la situation. :</strong>  \n",
    "J'ai essayé tant bien que mal de faire de mon mieux, mais j'avais l'impression que j'étais plutot un défouloir pour certaine personne et que les erreurs que l'on m'incombait n'était pas réellement de mon ressort.\n",
    "- <strong>R : Détaillez comment vous avez résolu le conflit et les bénéfices pour l'équipe ou l'entreprise. :</strong>  \n",
    "Je n'ai pas résolu le conflit, j'ai serré les dents et j'ai subis l'acharnement d'ouvrier peu compréhensif, mais ça m'a beaucoup apporté. Cette expérience m'a beaucoup impacté sur la manière de résoudre les conflits et d'arriver à prendre le recul suffisant pour les gérer. Chacun à ses problèmes et certaines personnes ont besoin d'exulter leur malheur sur d'autre pour se sentir important. J'ai appris à ne pas me sous estimer, et à établir une relation d'égalité avec les personnes pour ne pas leur donner l'opportunité d'entrer en conflit avec moi, au moindre conflit, je rétabli cette base de respect mutuel ou je coupe court à la conversation et explique à mon interlocuteur l'importance de ce respect sinon il n'obtiendra rien de moi ou des personnes avec qui il est en conflit."
   ]
  },
  {
   "cell_type": "markdown",
   "metadata": {},
   "source": [
    "#### 4. Parlez d'un projet où vous avez atteint un objectif ambitieux."
   ]
  },
  {
   "cell_type": "markdown",
   "metadata": {},
   "source": [
    "- <strong>S : Définissez le contexte du projet et les difficultés :</strong>\n",
    "\n",
    "- <strong>T : Expliquez l'objectif que vous deviez atteindre :</strong>\n",
    "\n",
    "- <strong>A : Montrez les stratégies ou approches innovantes que vous avez adoptées :</strong>\n",
    "\n",
    "- <strong>R : Quantifiez l'accomplissement, comme une augmentation des ventes, une réduction des coûts ou une meilleure satisfaction client :</strong>\n"
   ]
  },
  {
   "cell_type": "markdown",
   "metadata": {},
   "source": [
    "#### 5. Donnez un exemple où vous avez dû gérer plusieurs priorités."
   ]
  },
  {
   "cell_type": "markdown",
   "metadata": {},
   "source": [
    "- <strong>S : Exposez la situation où plusieurs tâches nécessitaient votre attention :</strong>  \n",
    "Lorsque j'étais chef de chantier, il y avait de nombreux corps de métier différents qui intervenaient sur le chantier, sur différents étages, dans différents logement, et parfois en même temps, ou avec des tâches qui se superposaient.\n",
    "\n",
    "\n",
    "\n",
    "- <strong>T : Indiquez votre objectif principal ou le résultat attendu :</strong>  \n",
    "L'objectif principal était simple, avancer sur le chantier en évitant les retards et les désagréments comme l'interuption de travail. Éviter également les conflits lorsque les corps de métier s'entrecroisait.\n",
    "\n",
    "\n",
    "- <strong>A : Expliquez les techniques de gestion du temps ou d'organisation utilisées :</strong>  \n",
    "Mon principal outil était le diagramme de gantt. J'en avais un global de disponible, mais j'en avais réalisé pour chaque logement où un intervention était nécessaire, ça me permettait de mieux suivre l'avancement du ouvrage sur chaque logement et l'intervention des différents corps de métier qui réalisait les tâches selon un planning très serré mais avec une certaine marge.\n",
    "\n",
    "- <strong>R : Montrez comment cela a mené à des résultats positifs, en termes de qualité ou de respect des délais :</strong>  \n",
    "ça demande une organisation rigoureuse, et ça fonctionne bien quand il n'y a pas de gros décallage dans le planning mais ça peut être vite lourd à gérer quand on a pas tous les outils nécessaires. J'étais vraiment en autonomie complète, et la charge était très lourde. ça a marché pendant un temps mais parfois on doit improviser et on s'écarte du plan fixé et là c'est le début des ennuis si on ne recadre pas rapidement son objectif. Je ne suis pas resté assez longtemps pour voir le résultat de mon organisation. Mais c'était une bonne expérience car c'est une plannification plus concrête que le développement de projet ou chaque étape n'est qu'une ligne dans un tableau, là je pouvais voir une avancé concrête, béton, carrelage, tuyauterie, meuble etc. C'est plus concret."
   ]
  },
  {
   "cell_type": "markdown",
   "metadata": {},
   "source": [
    "#### 6. Parlez-moi d'une décision difficile que vous avez dû prendre."
   ]
  },
  {
   "cell_type": "markdown",
   "metadata": {},
   "source": [
    "- <strong>S : Décrivez la situation et la difficulté de la décision :</strong>  \n",
    "Je pense la situation la plus difficile que j'ai eu à prendre a été de quitter mon emploi chez TotalEnergie afin de me former et me perfectionner afin d'évoluer dans mes responsabilités et mes connaissances.\n",
    "- <strong>T : Expliquez le résultat attendu de votre décision :</strong>  \n",
    "J'avais pour objectif de me perfectionner, apprendre et découvrir de nouvelles technologies, évoluer dans mon métier et m'épanouir professionnellement.\n",
    "- <strong>A : Discutez des critères utilisés pour prendre votre décision :</strong>  \n",
    "C'est un peu bête mais j'ai fais un tableau des pour et contre qui m'ont permis de prendre ma décision. Et puis j'ai eu l'opportunité de m'expatrier alors la décision a été un plus simple à prendre. Parfois il faut se lancer.\n",
    "- <strong>R : Montrez l'impact positif, même s’il a fallu du temps pour voir les résultats :</strong>  \n",
    "Et bien j'ai eu l'occasion de me former, j'ai rencontré des personnes qui ont fait évoluer ma méthodologie de travail, mes perspectives du métier, ma vision du monde. Je suis beaucoup plus heureux et épanoui et je ne retournerai pas en arrière."
   ]
  },
  {
   "cell_type": "markdown",
   "metadata": {},
   "source": [
    "#### 7. Avez-vous déjà eu un échec, et qu'en avez-vous appris ?"
   ]
  },
  {
   "cell_type": "markdown",
   "metadata": {},
   "source": [
    "- <strong>S : Décrivez le contexte et l'erreur : </strong>\n",
    "J'avais entrepris un projet complexe avec des amis qui sont passionné par l'informatique comme moi. Il s'agissait un projet de drone autonome. Ce projet alliait machine learning, automation, système embarqué, vision par ordinateur. C'était un projet complexe, trop complexe, et j'ai du l'abandonner.\n",
    "- <strong>T : Expliquez ce que vous auriez dû accomplir : </strong>\n",
    "Pour réaliser un projet de cette ampleur il aurait été nécessaire d'avoir un planning précis d'étape pour connaitre notre progression et se fixer des objectifs clairs et également connaitre notre rentabilité.\n",
    "- <strong>A : Montrez ce que vous avez tenté et pourquoi cela n'a pas fonctionné : </strong>\n",
    "Nous avons travaillé chacun de notre coté sur le projet et nous n'avons pas suffisamment communiqué pour se fixer des objectifs précis. Donc nous nous sommes éparpillé et nous avons dû parfois dévier du projet pour des raisons personnelles.\n",
    "- <strong>R : Mentionnez les leçons apprises et comment cela a amélioré vos performances futures : </strong>\n",
    "Utiliser un planning de sprint, c'est pour moi un outil formidable, qui permet de poser avant chaque tâche les objectif précis du projet et ça permet de communiquer clairement entre les différents acteurs afin de comprendre les tâches à effectuer. Il ne faut pas foncer tête baisser et parfois bien plannifier et communiquer."
   ]
  },
  {
   "cell_type": "markdown",
   "metadata": {},
   "source": []
  }
 ],
 "metadata": {
  "language_info": {
   "name": "python"
  }
 },
 "nbformat": 4,
 "nbformat_minor": 2
}
