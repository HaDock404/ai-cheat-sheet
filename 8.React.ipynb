{
 "cells": [
  {
   "cell_type": "markdown",
   "metadata": {},
   "source": [
    "# Create React App"
   ]
  },
  {
   "cell_type": "markdown",
   "metadata": {},
   "source": [
    "Faire la commande :"
   ]
  },
  {
   "cell_type": "markdown",
   "metadata": {},
   "source": [
    "```npx create-react-app new-project-name```"
   ]
  },
  {
   "cell_type": "markdown",
   "metadata": {},
   "source": [
    "ou si le dossier du projet existe déjà :"
   ]
  },
  {
   "cell_type": "markdown",
   "metadata": {},
   "source": [
    "```npx create-react-app```"
   ]
  },
  {
   "cell_type": "markdown",
   "metadata": {},
   "source": [
    "Créer le dossier ```/src/components``` \n",
    "\n",
    "Créer le dossier ```/src/pages```  \n",
    "\n",
    "Mettre le fichier ```App.js``` dans ```/App```  \n",
    "\n",
    "Renommer ```App.js```en ```Home.jsx```  \n",
    "\n",
    "Renommer ```index.js``` en ```index.jsx```"
   ]
  },
  {
   "cell_type": "markdown",
   "metadata": {},
   "source": [
    "### Installation de la bibliothèque de routing"
   ]
  },
  {
   "cell_type": "markdown",
   "metadata": {},
   "source": [
    "```bash\n",
    "yarn add react-router-dom\n",
    "```"
   ]
  },
  {
   "cell_type": "markdown",
   "metadata": {},
   "source": [
    "### Importation dans index.jsx"
   ]
  },
  {
   "cell_type": "markdown",
   "metadata": {},
   "source": [
    "```jsx\n",
    "import {\n",
    "  BrowserRouter,\n",
    "  Routes,\n",
    "  Route\n",
    "} from \"react-router-dom\";\n",
    "```"
   ]
  },
  {
   "cell_type": "markdown",
   "metadata": {},
   "source": [
    "ou"
   ]
  },
  {
   "cell_type": "markdown",
   "metadata": {},
   "source": [
    "```jsx\n",
    "import {\n",
    "  HashRouter,\n",
    "  Routes,\n",
    "  Route,\n",
    "} from \"react-router-dom\"; pour githubPage\n",
    "```"
   ]
  },
  {
   "cell_type": "markdown",
   "metadata": {},
   "source": [
    "et"
   ]
  },
  {
   "cell_type": "markdown",
   "metadata": {},
   "source": [
    "```jsx\n",
    "const root = ReactDOM.createRoot(document.getElementById(\"root\"));\n",
    "root.render(\n",
    "  <BrowserRouter>\n",
    "        <Routes>\n",
    "          <Route path=\"/\" element={<Home />}/>\n",
    "        </Routes>\n",
    "    <React.StrictMode></React.StrictMode>\n",
    "  </BrowserRouter>,\n",
    ");\n",
    "```"
   ]
  },
  {
   "cell_type": "markdown",
   "metadata": {},
   "source": [
    "ou"
   ]
  },
  {
   "cell_type": "markdown",
   "metadata": {},
   "source": [
    "```jsx\n",
    "const root = ReactDOM.createRoot(document.getElementById(\"root\"));\n",
    "root.render(\n",
    "  <HashRouter>\n",
    "        <Routes>\n",
    "          <Route path=\"/\" element={<Home />}/>\n",
    "        </Routes>\n",
    "    <React.StrictMode></React.StrictMode>\n",
    "  </HashRouter>,\n",
    ");\n",
    "```"
   ]
  },
  {
   "cell_type": "markdown",
   "metadata": {},
   "source": [
    "## Création de liens :"
   ]
  },
  {
   "cell_type": "markdown",
   "metadata": {},
   "source": [
    "```jsx\n",
    "import { Link } from 'react-router-dom'\n",
    "\n",
    "const CardLink = styled(Link)``\n",
    "```\n"
   ]
  },
  {
   "cell_type": "markdown",
   "metadata": {},
   "source": [
    "```jsx\n",
    "<CardLink to=\"/\">Accueil</CardLink>\n",
    "```"
   ]
  },
  {
   "cell_type": "markdown",
   "metadata": {},
   "source": [
    "### Importation de la bibliothèque de styled components"
   ]
  },
  {
   "cell_type": "markdown",
   "metadata": {},
   "source": [
    "```bash\n",
    "yarn add styled-components\n",
    "```"
   ]
  },
  {
   "cell_type": "markdown",
   "metadata": {},
   "source": [
    "puis dans les fichiers nous importons :"
   ]
  },
  {
   "cell_type": "markdown",
   "metadata": {},
   "source": [
    "```jsx\n",
    "import styled from 'styled-components'\n",
    "\n",
    "const CardLabel = styled.span``\n",
    "```"
   ]
  },
  {
   "cell_type": "markdown",
   "metadata": {},
   "source": [
    "### Installation de React-redux"
   ]
  },
  {
   "cell_type": "markdown",
   "metadata": {},
   "source": [
    "```bash\n",
    "yarn add react-redux\n",
    "yarn add redux\n",
    "```"
   ]
  },
  {
   "cell_type": "markdown",
   "metadata": {},
   "source": [
    "## Création de composant"
   ]
  },
  {
   "cell_type": "markdown",
   "metadata": {},
   "source": [
    "```bash\n",
    "npm create-component-lib nom-du-composant"
   ]
  },
  {
   "cell_type": "markdown",
   "metadata": {},
   "source": [
    "En cas de problème d'import en haut de fichier, lancer la commande suivante dans le repository du projet :"
   ]
  },
  {
   "cell_type": "markdown",
   "metadata": {},
   "source": [
    "```bash\n",
    "npm install --save-dev @babel/cli\n",
    "```"
   ]
  },
  {
   "cell_type": "markdown",
   "metadata": {},
   "source": [
    "Essayer"
   ]
  },
  {
   "cell_type": "markdown",
   "metadata": {},
   "source": [
    "```bash\n",
    "npm install --save-dev --save-exact react-scripts@1.0.7\n",
    "```"
   ]
  },
  {
   "cell_type": "markdown",
   "metadata": {},
   "source": [
    "## Composant d'impression en react"
   ]
  },
  {
   "cell_type": "markdown",
   "metadata": {},
   "source": [
    "```bash\n",
    "npm install --save react-to-print\n",
    "```"
   ]
  },
  {
   "cell_type": "markdown",
   "metadata": {},
   "source": [
    "```jsx\n",
    "import React, {useRef} from \"react\";\n",
    "import {useReactToPrint} from 'react-to-print'\n",
    "\n",
    "function ReactPdfPrint() {\n",
    "    const componentRef = useRef();\n",
    "    const handlePrint = useReactToPrint({\n",
    "        content: () => componentRef.current,\n",
    "        documentTitle: 'emp-data',\n",
    "        onAfterPrint: ()=> alert('Print success')\n",
    "    })\n",
    "    return (\n",
    "        <>\n",
    "            <div ref={componentRef}>\n",
    "                <h1>Employee data</h1>\n",
    "            </div>\n",
    "            <button onClick={handlePrint}>Print this out</button>\n",
    "        </>\n",
    "    )\n",
    "}\n",
    "\n",
    "export default ReactPdfPrint\n",
    "```"
   ]
  },
  {
   "cell_type": "markdown",
   "metadata": {},
   "source": []
  }
 ],
 "metadata": {
  "language_info": {
   "name": "python"
  }
 },
 "nbformat": 4,
 "nbformat_minor": 2
}
