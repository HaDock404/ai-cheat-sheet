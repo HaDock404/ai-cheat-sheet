{
 "cells": [
  {
   "cell_type": "markdown",
   "metadata": {},
   "source": [
    "# Create React App"
   ]
  },
  {
   "cell_type": "markdown",
   "metadata": {},
   "source": [
    "Faire la commande :"
   ]
  },
  {
   "cell_type": "markdown",
   "metadata": {},
   "source": [
    "```npx create-react-app new-project-name```"
   ]
  },
  {
   "cell_type": "markdown",
   "metadata": {},
   "source": [
    "ou si le dossier du projet existe déjà :"
   ]
  },
  {
   "cell_type": "markdown",
   "metadata": {},
   "source": [
    "```npx create-react-app```"
   ]
  },
  {
   "cell_type": "markdown",
   "metadata": {},
   "source": [
    "Créer le dossier ```/src/components``` \n",
    "\n",
    "Créer le dossier ```/src/pages```  \n",
    "\n",
    "Mettre le fichier ```App.js``` dans ```/App```  \n",
    "\n",
    "Renommer ```App.js```en ```Home.jsx```  \n",
    "\n",
    "Renommer ```index.js``` en ```index.jsx```"
   ]
  },
  {
   "cell_type": "markdown",
   "metadata": {},
   "source": [
    "### Installation de la bibliothèque de routing"
   ]
  },
  {
   "cell_type": "markdown",
   "metadata": {},
   "source": [
    "```bash\n",
    "yarn add react-router-dom\n",
    "```"
   ]
  },
  {
   "cell_type": "markdown",
   "metadata": {},
   "source": [
    "### Importation dans index.jsx"
   ]
  },
  {
   "cell_type": "markdown",
   "metadata": {},
   "source": [
    "```jsx\n",
    "import {\n",
    "  BrowserRouter,\n",
    "  Routes,\n",
    "  Route\n",
    "} from \"react-router-dom\";\n",
    "```"
   ]
  },
  {
   "cell_type": "markdown",
   "metadata": {},
   "source": [
    "ou"
   ]
  },
  {
   "cell_type": "markdown",
   "metadata": {},
   "source": [
    "```jsx\n",
    "import {\n",
    "  HashRouter,\n",
    "  Routes,\n",
    "  Route,\n",
    "} from \"react-router-dom\"; pour githubPage\n",
    "```"
   ]
  },
  {
   "cell_type": "markdown",
   "metadata": {},
   "source": [
    "et"
   ]
  },
  {
   "cell_type": "markdown",
   "metadata": {},
   "source": [
    "```jsx\n",
    "const root = ReactDOM.createRoot(document.getElementById(\"root\"));\n",
    "root.render(\n",
    "  <BrowserRouter>\n",
    "        <Routes>\n",
    "          <Route path=\"/\" element={<Home />}/>\n",
    "        </Routes>\n",
    "    <React.StrictMode></React.StrictMode>\n",
    "  </BrowserRouter>,\n",
    ");\n",
    "```"
   ]
  },
  {
   "cell_type": "markdown",
   "metadata": {},
   "source": [
    "ou"
   ]
  },
  {
   "cell_type": "markdown",
   "metadata": {},
   "source": [
    "```jsx\n",
    "const root = ReactDOM.createRoot(document.getElementById(\"root\"));\n",
    "root.render(\n",
    "  <HashRouter>\n",
    "        <Routes>\n",
    "          <Route path=\"/\" element={<Home />}/>\n",
    "        </Routes>\n",
    "    <React.StrictMode></React.StrictMode>\n",
    "  </HashRouter>,\n",
    ");\n",
    "```"
   ]
  },
  {
   "cell_type": "markdown",
   "metadata": {},
   "source": [
    "## Création de liens :"
   ]
  },
  {
   "cell_type": "markdown",
   "metadata": {},
   "source": [
    "```jsx\n",
    "import { Link } from 'react-router-dom'\n",
    "\n",
    "const CardLink = styled(Link)``\n",
    "```\n"
   ]
  },
  {
   "cell_type": "markdown",
   "metadata": {},
   "source": [
    "```jsx\n",
    "<CardLink to=\"/\">Accueil</CardLink>\n",
    "```"
   ]
  },
  {
   "cell_type": "markdown",
   "metadata": {},
   "source": [
    "### Importation de la bibliothèque de styled components"
   ]
  },
  {
   "cell_type": "markdown",
   "metadata": {},
   "source": [
    "```bash\n",
    "yarn add styled-components\n",
    "```"
   ]
  },
  {
   "cell_type": "markdown",
   "metadata": {},
   "source": [
    "puis dans les fichiers nous importons :"
   ]
  },
  {
   "cell_type": "markdown",
   "metadata": {},
   "source": [
    "```jsx\n",
    "import styled from 'styled-components'\n",
    "\n",
    "const CardLabel = styled.span``\n",
    "```"
   ]
  },
  {
   "cell_type": "markdown",
   "metadata": {},
   "source": [
    "### Installation de React-redux"
   ]
  },
  {
   "cell_type": "markdown",
   "metadata": {},
   "source": [
    "```bash\n",
    "yarn add react-redux\n",
    "yarn add redux\n",
    "```"
   ]
  },
  {
   "cell_type": "markdown",
   "metadata": {},
   "source": []
  }
 ],
 "metadata": {
  "language_info": {
   "name": "python"
  }
 },
 "nbformat": 4,
 "nbformat_minor": 2
}
