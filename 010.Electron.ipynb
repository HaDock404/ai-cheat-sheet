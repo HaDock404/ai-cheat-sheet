{
 "cells": [
  {
   "cell_type": "markdown",
   "metadata": {},
   "source": [
    "# Créer un logiciel grâce à Electron"
   ]
  },
  {
   "cell_type": "markdown",
   "metadata": {},
   "source": [
    "On commence simplement par créer le projet et entrer dedans"
   ]
  },
  {
   "cell_type": "markdown",
   "metadata": {},
   "source": [
    "```bash\n",
    "mkdir new-project && cd new-project\n",
    "```"
   ]
  },
  {
   "cell_type": "markdown",
   "metadata": {},
   "source": [
    "Puis on initialise la création de projet avec npm"
   ]
  },
  {
   "cell_type": "markdown",
   "metadata": {},
   "source": [
    "```bash\n",
    "npm init\n",
    "```"
   ]
  },
  {
   "cell_type": "markdown",
   "metadata": {},
   "source": [
    "Voici un exemple de package :"
   ]
  },
  {
   "cell_type": "markdown",
   "metadata": {},
   "source": [
    "```json\n",
    "{\n",
    "  \"name\": \"new-project\",\n",
    "  \"version\": \"0.1.0\",\n",
    "  \"description\": \"The aim of this software is to facilitate the exchange of data between users\",\n",
    "  \"main\": \"main.js\",\n",
    "  \"author\": \"haDock404\",\n",
    "  \"license\": \"MIT\"\n",
    "}\n",
    "```"
   ]
  },
  {
   "cell_type": "markdown",
   "metadata": {},
   "source": [
    "Et enfin on installe ```Electron```"
   ]
  },
  {
   "cell_type": "markdown",
   "metadata": {},
   "source": [
    "```bash\n",
    "npm install electron --save-dev\n",
    "```"
   ]
  },
  {
   "cell_type": "markdown",
   "metadata": {},
   "source": [
    "On crée le frontend pour l'utilisation de Reac"
   ]
  },
  {
   "cell_type": "markdown",
   "metadata": {},
   "source": [
    "```bash\n",
    "npx create-react-app frontend --template cra-template\n",
    "cd frontend\n",
    "```"
   ]
  },
  {
   "cell_type": "markdown",
   "metadata": {},
   "source": [
    "Installation manuel des vitals je ne sais pas pourquoi ça ne marche plus automatiquement \n",
    "```bash\n",
    "npm i web-vitals --save-dev\n",
    "```"
   ]
  },
  {
   "cell_type": "markdown",
   "metadata": {},
   "source": [
    "On ajoute ceci dans le ````package.json```` de React"
   ]
  },
  {
   "cell_type": "markdown",
   "metadata": {},
   "source": [
    "```json\n",
    "\"name\": \"frontend\",\n",
    "\"version\": \"0.1.0\",\n",
    "\"homepage\": \".\", ///<-- permet d'utiliser la racine dans la manipulation du .html\n",
    "```"
   ]
  },
  {
   "cell_type": "markdown",
   "metadata": {},
   "source": [
    "On ajoute ceci dans le ```package.json``` d'Electron"
   ]
  },
  {
   "cell_type": "markdown",
   "metadata": {},
   "source": [
    "```json\n",
    "\"scripts\": {\n",
    "    \"start\": \"electron .\",\n",
    "    \"build-react\": \"cd frontend && npm run build\",\n",
    "    \"start-react\": \"cd frontend && npm start\",\n",
    "    \"test\": \"echo \\\"Error: no test specified\\\" && exit 1\"\n",
    "}\n",
    "```"
   ]
  },
  {
   "cell_type": "markdown",
   "metadata": {},
   "source": [
    "On construit l'application React :"
   ]
  },
  {
   "cell_type": "markdown",
   "metadata": {},
   "source": [
    "```bash\n",
    "cd frontend\n",
    "npm run build\n",
    "cd ..\n",
    "```"
   ]
  },
  {
   "cell_type": "markdown",
   "metadata": {},
   "source": [
    "On crée un fichier ```main.js``` et ```preload.js```"
   ]
  },
  {
   "cell_type": "markdown",
   "metadata": {},
   "source": [
    "```js\n",
    "//main.js\n",
    "\n",
    "const { app, BrowserWindow } = require('electron');\n",
    "const path = require('path');\n",
    "\n",
    "let mainWindow;\n",
    "\n",
    "const createWindow = () => {\n",
    "    mainWindow = new BrowserWindow({\n",
    "        width: 800,\n",
    "        height: 600,\n",
    "        webPreferences: {\n",
    "            preload: path.join(__dirname, 'preload.js'),\n",
    "        },\n",
    "    });\n",
    "\n",
    "    // Chargez l'application React\n",
    "    const startUrl = `file://${path.join(__dirname, 'frontend', 'build', 'index.html')}`;\n",
    "    console.log('Loading URL:', startUrl);\n",
    "\n",
    "    mainWindow.loadURL(startUrl);\n",
    "\n",
    "    // Ouvrir les DevTools\n",
    "    //mainWindow.webContents.openDevTools();\n",
    "\n",
    "    // Gestion des événements de chargement\n",
    "    mainWindow.webContents.on('did-finish-load', () => {\n",
    "        console.log('Page loaded successfully');\n",
    "    });\n",
    "\n",
    "    mainWindow.webContents.on('did-fail-load', (event, errorCode, errorDescription) => {\n",
    "        console.log('Failed to load:', errorDescription);\n",
    "    });\n",
    "\n",
    "    mainWindow.webContents.on('console-message', (level, message) => {\n",
    "        console.log(`Console message [${level}]: ${message}`);\n",
    "    });\n",
    "};\n",
    "\n",
    "app.whenReady().then(createWindow);\n",
    "\n",
    "app.on('window-all-closed', () => {\n",
    "    if (process.platform !== 'darwin') {\n",
    "        app.quit();\n",
    "    }\n",
    "});\n",
    "\n",
    "app.on('activate', () => {\n",
    "    if (BrowserWindow.getAllWindows().length === 0) {\n",
    "        createWindow();\n",
    "    }\n",
    "});\n",
    "```"
   ]
  },
  {
   "cell_type": "markdown",
   "metadata": {},
   "source": [
    "A la racine lancer l'application :"
   ]
  },
  {
   "cell_type": "markdown",
   "metadata": {},
   "source": [
    "```bash\n",
    "npm run start\n",
    "```"
   ]
  },
  {
   "cell_type": "markdown",
   "metadata": {},
   "source": []
  }
 ],
 "metadata": {
  "language_info": {
   "name": "python"
  }
 },
 "nbformat": 4,
 "nbformat_minor": 2
}
