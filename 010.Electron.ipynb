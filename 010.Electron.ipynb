{
 "cells": [
  {
   "cell_type": "markdown",
   "metadata": {},
   "source": [
    "# Créer un logiciel grâce à Electron"
   ]
  },
  {
   "cell_type": "markdown",
   "metadata": {},
   "source": [
    "On commence simplement par créer le projet et entrer dedans"
   ]
  },
  {
   "cell_type": "markdown",
   "metadata": {},
   "source": [
    "```bash\n",
    "mkdir new-project && cd new-project\n",
    "```"
   ]
  },
  {
   "cell_type": "markdown",
   "metadata": {},
   "source": [
    "Puis on initialise la création de projet avec npm"
   ]
  },
  {
   "cell_type": "markdown",
   "metadata": {},
   "source": [
    "```bash\n",
    "npm init\n",
    "```"
   ]
  },
  {
   "cell_type": "markdown",
   "metadata": {},
   "source": [
    "Voici un exemple de package :"
   ]
  },
  {
   "cell_type": "markdown",
   "metadata": {},
   "source": [
    "```json\n",
    "{\n",
    "  \"name\": \"new-project\",\n",
    "  \"version\": \"0.1.0\",\n",
    "  \"description\": \"The aim of this software is to facilitate the exchange of data between users\",\n",
    "  \"main\": \"main.js\",\n",
    "  \"author\": \"haDock404\",\n",
    "  \"license\": \"MIT\"\n",
    "}\n",
    "```"
   ]
  },
  {
   "cell_type": "markdown",
   "metadata": {},
   "source": [
    "Et enfin on installe ```Electron```"
   ]
  },
  {
   "cell_type": "markdown",
   "metadata": {},
   "source": [
    "```bash\n",
    "npm install electron --save-dev\n",
    "```"
   ]
  },
  {
   "cell_type": "markdown",
   "metadata": {},
   "source": [
    "On crée le frontend pour l'utilisation de Reac"
   ]
  },
  {
   "cell_type": "markdown",
   "metadata": {},
   "source": [
    "```bash\n",
    "npx create-react-app frontend --template cra-template\n",
    "cd frontend\n",
    "```"
   ]
  },
  {
   "cell_type": "markdown",
   "metadata": {},
   "source": [
    "Installation manuel des vitals je ne sais pas pourquoi ça ne marche plus automatiquement \n",
    "```bash\n",
    "npm i web-vitals --save-dev\n",
    "```"
   ]
  },
  {
   "cell_type": "markdown",
   "metadata": {},
   "source": [
    "On ajoute ceci dans le ````package.json```` de React"
   ]
  },
  {
   "cell_type": "markdown",
   "metadata": {},
   "source": [
    "```json\n",
    "\"name\": \"frontend\",\n",
    "\"version\": \"0.1.0\",\n",
    "\"homepage\": \".\", ///<-- permet d'utiliser la racine dans la manipulation du .html\n",
    "```"
   ]
  },
  {
   "cell_type": "markdown",
   "metadata": {},
   "source": [
    "On ajoute ceci dans le ```package.json``` d'Electron"
   ]
  },
  {
   "cell_type": "markdown",
   "metadata": {},
   "source": [
    "```json\n",
    "\"scripts\": {\n",
    "    \"start\": \"electron .\",\n",
    "    \"build-react\": \"cd frontend && npm run build\",\n",
    "    \"start-react\": \"cd frontend && npm start\",\n",
    "    \"test\": \"echo \\\"Error: no test specified\\\" && exit 1\"\n",
    "}\n",
    "```"
   ]
  },
  {
   "cell_type": "markdown",
   "metadata": {},
   "source": [
    "On construit l'application React :"
   ]
  },
  {
   "cell_type": "markdown",
   "metadata": {},
   "source": [
    "```bash\n",
    "cd frontend\n",
    "npm run build\n",
    "cd ..\n",
    "```"
   ]
  },
  {
   "cell_type": "markdown",
   "metadata": {},
   "source": [
    "On crée un fichier ```main.js``` et ```preload.js```"
   ]
  },
  {
   "cell_type": "markdown",
   "metadata": {},
   "source": [
    "```js\n",
    "//main.js\n",
    "\n",
    "const { app, BrowserWindow } = require('electron');\n",
    "const path = require('path');\n",
    "\n",
    "let mainWindow;\n",
    "\n",
    "const createWindow = () => {\n",
    "    mainWindow = new BrowserWindow({\n",
    "        width: 800,\n",
    "        height: 600,\n",
    "        webPreferences: {\n",
    "            preload: path.join(__dirname, 'preload.js'),\n",
    "        },\n",
    "    });\n",
    "\n",
    "    // Chargez l'application React\n",
    "    const startUrl = `file://${path.join(__dirname, 'frontend', 'build', 'index.html')}`;\n",
    "    console.log('Loading URL:', startUrl);\n",
    "\n",
    "    mainWindow.loadURL(startUrl);\n",
    "\n",
    "    // Ouvrir les DevTools\n",
    "    //mainWindow.webContents.openDevTools();\n",
    "\n",
    "    // Gestion des événements de chargement\n",
    "    mainWindow.webContents.on('did-finish-load', () => {\n",
    "        console.log('Page loaded successfully');\n",
    "    });\n",
    "\n",
    "    mainWindow.webContents.on('did-fail-load', (event, errorCode, errorDescription) => {\n",
    "        console.log('Failed to load:', errorDescription);\n",
    "    });\n",
    "\n",
    "    mainWindow.webContents.on('console-message', (level, message) => {\n",
    "        console.log(`Console message [${level}]: ${message}`);\n",
    "    });\n",
    "};\n",
    "\n",
    "app.whenReady().then(createWindow);\n",
    "\n",
    "app.on('window-all-closed', () => {\n",
    "    if (process.platform !== 'darwin') {\n",
    "        app.quit();\n",
    "    }\n",
    "});\n",
    "\n",
    "app.on('activate', () => {\n",
    "    if (BrowserWindow.getAllWindows().length === 0) {\n",
    "        createWindow();\n",
    "    }\n",
    "});\n",
    "```"
   ]
  },
  {
   "cell_type": "markdown",
   "metadata": {},
   "source": [
    "A la racine lancer l'application :"
   ]
  },
  {
   "cell_type": "markdown",
   "metadata": {},
   "source": [
    "```bash\n",
    "npm run start\n",
    "```"
   ]
  },
  {
   "cell_type": "markdown",
   "metadata": {},
   "source": [
    "## Utilisation de python dans une application"
   ]
  },
  {
   "cell_type": "markdown",
   "metadata": {},
   "source": [
    "#### Réaliser une structure de projet identique :"
   ]
  },
  {
   "cell_type": "markdown",
   "metadata": {},
   "source": [
    "````\n",
    "app/\n",
    "    - main.js\n",
    "    - renderer.js\n",
    "    - index.html\n",
    "\n",
    "python/\n",
    "    - app.py\n",
    "    - requirements.txt\n",
    "\n",
    "python_env/\n",
    "    - ...\n",
    "\n",
    "package.json\n",
    ".env\n",
    "README.md\n",
    "```"
   ]
  },
  {
   "cell_type": "markdown",
   "metadata": {},
   "source": [
    "#### Créer un environnement Conda :"
   ]
  },
  {
   "cell_type": "markdown",
   "metadata": {},
   "source": [
    "```bash\n",
    "conda create -p ./python_env python=3.10.9\n",
    "conda activate ./python_env\n",
    "pip install -r python/requirements.txt\n",
    "```"
   ]
  },
  {
   "cell_type": "markdown",
   "metadata": {},
   "source": [
    "#### Utilisation de python dans l'application Electron"
   ]
  },
  {
   "cell_type": "markdown",
   "metadata": {},
   "source": [
    "```js\n",
    "//main.js\n",
    "\n",
    "const { app, BrowserWindow, ipcMain } = require('electron');\n",
    "const path = require('path');\n",
    "const { spawn } = require('child_process');\n",
    "\n",
    "let mainWindow;\n",
    "\n",
    "app.on('ready', () => {\n",
    "  mainWindow = new BrowserWindow({\n",
    "    width: 800,\n",
    "    height: 600,\n",
    "    webPreferences: {\n",
    "      nodeIntegration: true,\n",
    "      contextIsolation: false,\n",
    "    },\n",
    "  });\n",
    "\n",
    "  mainWindow.loadFile('app/index.html');\n",
    "});\n",
    "\n",
    "ipcMain.on('run-python', (event, args) => {\n",
    "  // Chemin vers le Python\n",
    "  const pythonPath = path.join(__dirname, '..', 'python_env', 'bin', 'python');\n",
    "  const pythonScript = path.join(__dirname, '..', 'python', 'app.py');\n",
    "\n",
    "  const pythonProcess = spawn(pythonPath, [pythonScript, args]);\n",
    "\n",
    "  pythonProcess.stdout.on('data', (data) => {\n",
    "    event.reply('python-output', data.toString());\n",
    "  });\n",
    "\n",
    "  pythonProcess.stderr.on('data', (data) => {\n",
    "    console.error(`Python Error: ${data}`);\n",
    "    event.reply('python-error', data.toString());\n",
    "  });\n",
    "});\n",
    "\n",
    "app.on('window-all-closed', () => {\n",
    "  app.quit();\n",
    "});\n",
    "```"
   ]
  },
  {
   "cell_type": "markdown",
   "metadata": {},
   "source": [
    "#### HTML de base\n",
    "\n",
    "```html\n",
    "<!DOCTYPE html>\n",
    "<html>\n",
    "<head>\n",
    "  <meta charset=\"UTF-8\">\n",
    "  <title>Application Electron avec Python</title>\n",
    "</head>\n",
    "<body>\n",
    "  <h1>Calcul avec NumPy</h1>\n",
    "  <input id=\"input\" type=\"text\" placeholder=\"Entrez un nombre\">\n",
    "  <button id=\"calculate\">Calculer</button>\n",
    "  <p id=\"result\">Résultat : </p>\n",
    "\n",
    "  <script src=\"renderer.js\"></script>\n",
    "</body>\n",
    "</html>\n",
    "```"
   ]
  },
  {
   "cell_type": "markdown",
   "metadata": {},
   "source": [
    "#### Script de l'interface \n",
    "\n",
    "```js\n",
    "const { ipcRenderer } = require('electron');\n",
    "\n",
    "document.getElementById('calculate').addEventListener('click', () => {\n",
    "  const input = document.getElementById('input').value;\n",
    "  ipcRenderer.send('run-python', input);\n",
    "});\n",
    "\n",
    "ipcRenderer.on('python-output', (event, data) => {\n",
    "  document.getElementById('result').textContent = `Résultat : ${data}`;\n",
    "});\n",
    "\n",
    "ipcRenderer.on('python-error', (event, data) => {\n",
    "  document.getElementById('result').textContent = `Erreur : ${data}`;\n",
    "});\n",
    "```"
   ]
  },
  {
   "cell_type": "markdown",
   "metadata": {},
   "source": [
    "#### Code du script Pyhton\n",
    "\n",
    "```python\n",
    "import sys\n",
    "import numpy as np\n",
    "\n",
    "def main():\n",
    "    if len(sys.argv) != 2:\n",
    "        print(\"Usage: python app.py <number>\")\n",
    "        return\n",
    "\n",
    "    try:\n",
    "        num = float(sys.argv[1])\n",
    "        result = np.square(num)\n",
    "        print(result)\n",
    "    except ValueError:\n",
    "        print(\"Veuillez entrer un nombre valide.\")\n",
    "\n",
    "if __name__ == \"__main__\":\n",
    "    main()\n",
    "```"
   ]
  },
  {
   "cell_type": "markdown",
   "metadata": {},
   "source": [
    "#### Installation de l'empacteur pour créer l'application"
   ]
  },
  {
   "cell_type": "markdown",
   "metadata": {},
   "source": [
    "```bash\n",
    "npm install electron-packager --save-dev\n",
    "```"
   ]
  },
  {
   "cell_type": "markdown",
   "metadata": {},
   "source": [
    "#### Ajouter le script d'empactage pour mac\n",
    "\n",
    "```json\n",
    "\"scripts\": {\n",
    "  \"package\": \"electron-packager . ElectronPythonApp --platform=darwin --arch=x64 --out=release-build --overwrite --extra-resource=python_env --extra-resource=python\"\n",
    "}\n",
    "```"
   ]
  },
  {
   "cell_type": "markdown",
   "metadata": {},
   "source": [
    "#### Lancement de l'empactage\n",
    "```bash\n",
    "npm run package\n",
    "```"
   ]
  },
  {
   "cell_type": "markdown",
   "metadata": {},
   "source": [
    "#### Création d'un binaire multiplateforme"
   ]
  },
  {
   "cell_type": "markdown",
   "metadata": {},
   "source": [
    "```bash\n",
    "npm install electron-builder --save-dev\n",
    "```"
   ]
  },
  {
   "cell_type": "markdown",
   "metadata": {},
   "source": [
    "#### Script d'empactage\n",
    "\n",
    "```json\n",
    "\"scripts\": {\n",
    "  \"build:mac\": \"electron-builder --mac\",\n",
    "  \"build:win\": \"electron-builder --win\",\n",
    "  \"build:linux\": \"electron-builder --linux\"\n",
    "}\n",
    "```"
   ]
  },
  {
   "cell_type": "markdown",
   "metadata": {},
   "source": [
    "#### Lancement de la commande pour les différents OS\n",
    "\n",
    "```bash\n",
    "npm run build:mac\n",
    "npm run build:win\n",
    "npm run build:linux\n",
    "```\n"
   ]
  },
  {
   "cell_type": "markdown",
   "metadata": {},
   "source": []
  }
 ],
 "metadata": {
  "language_info": {
   "name": "python"
  }
 },
 "nbformat": 4,
 "nbformat_minor": 2
}
