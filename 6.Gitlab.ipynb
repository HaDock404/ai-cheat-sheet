{
 "cells": [
  {
   "cell_type": "markdown",
   "metadata": {},
   "source": [
    "# Création du serveur GitLab"
   ]
  },
  {
   "cell_type": "markdown",
   "metadata": {},
   "source": [
    "### Pour sauvegarder les données du server gitlab et garder la persistance des données malgré sont arrêt nous pouvons faire la commande :"
   ]
  },
  {
   "cell_type": "markdown",
   "metadata": {},
   "source": [
    "```bash\n",
    "sudo mkdir -p /srv/gitlab/config /srv/gitlab/logs /srv/gitlab/data\n",
    "```"
   ]
  },
  {
   "cell_type": "markdown",
   "metadata": {},
   "source": [
    "### Installation de l’image GitLab avec le paramétrage du server :"
   ]
  },
  {
   "cell_type": "markdown",
   "metadata": {},
   "source": [
    "```bahs\n",
    "sudo docker run --detach \\\n",
    "--hostname 0xhadock.gitlab.com \\\n",
    "--publish 443:443 --publish 8088:80 --publish 2022:22 \\\n",
    "--name gitlab \\\n",
    "--restart always \\\n",
    "--volume /srv/gitlab/config:/etc/gitlab \\\n",
    "--volume /srv/gitlab/logs:/var/log/gitlab \\\n",
    "--volume /srv/gitlab/data:/var/opt/gitlab \\\n",
    "--network host \\\n",
    "gitlab/gitlab-ee:latest\n",
    "```"
   ]
  },
  {
   "cell_type": "markdown",
   "metadata": {},
   "source": [
    "### Configurer GitLab afin qu'il utilise le port ```2022``` et le port ```8088```"
   ]
  },
  {
   "cell_type": "markdown",
   "metadata": {},
   "source": [
    "```bash\n",
    "sudo nano /srv/gitlab/config/gitlab.rb\n",
    "```"
   ]
  },
  {
   "cell_type": "markdown",
   "metadata": {},
   "source": [
    "Recherche de la ligne /gitlab_rails avec ```Ctr+w``` et modification\n"
   ]
  },
  {
   "cell_type": "markdown",
   "metadata": {},
   "source": [
    "```bash\n",
    "gitlab_rails['gitlab_shell_ssh_port'] = 2022\n",
    "external_url \"http://0xhadock.gitlab.com:8088\"\n",
    "```"
   ]
  },
  {
   "cell_type": "markdown",
   "metadata": {},
   "source": [
    "### Appliquez les changements :"
   ]
  },
  {
   "cell_type": "markdown",
   "metadata": {},
   "source": [
    "```bash\n",
    "sudo docker exec -it gitlab gitlab-ctl reconfigure\n",
    "```"
   ]
  },
  {
   "cell_type": "markdown",
   "metadata": {},
   "source": [
    "### Vérifier l’adresse ip du server :"
   ]
  },
  {
   "cell_type": "markdown",
   "metadata": {},
   "source": [
    "```bash\n",
    "sudo docker inspect -f '{{range .NetworkSettings.Networks}}{{.IPAddress}}{{end}}' gitlab\n",
    "```"
   ]
  },
  {
   "cell_type": "markdown",
   "metadata": {},
   "source": [
    "#### Tester la connexion de cette manière :"
   ]
  },
  {
   "cell_type": "markdown",
   "metadata": {},
   "source": [
    "```bash\n",
    "curl -I http://<ip>:8088\n",
    "```"
   ]
  },
  {
   "cell_type": "markdown",
   "metadata": {},
   "source": [
    "#### Sur le mac mettre la redirection de service :\n",
    "\n",
    "```bash\n",
    "sudo vim /etc/hosts \n",
    "```"
   ]
  },
  {
   "cell_type": "markdown",
   "metadata": {},
   "source": [
    "```192.168.0.20  0xhadock.gitlab.com```"
   ]
  },
  {
   "cell_type": "markdown",
   "metadata": {},
   "source": [
    "### Chercher le mot de passe par défaut dans :"
   ]
  },
  {
   "cell_type": "markdown",
   "metadata": {},
   "source": [
    "```bash\n",
    "sudo cat /srv/gitlab/config/initial_root_password\n",
    "```"
   ]
  },
  {
   "cell_type": "markdown",
   "metadata": {},
   "source": [
    "#### Connexion au server gitlab :\n",
    "\n",
    "```id : root```  \n",
    "```password : initial_root_password```"
   ]
  },
  {
   "cell_type": "markdown",
   "metadata": {},
   "source": [
    "# Création du Runner GitLab"
   ]
  },
  {
   "cell_type": "markdown",
   "metadata": {},
   "source": [
    "Créer un nouveau runner dans CI/CD, puis sélectionner container Docker. "
   ]
  },
  {
   "cell_type": "markdown",
   "metadata": {},
   "source": [
    "### Création du runner"
   ]
  },
  {
   "cell_type": "markdown",
   "metadata": {},
   "source": [
    "```bash\n",
    "sudo docker run -d --name gitlab-runner \\\n",
    "  --restart always \\\n",
    "  --add-host 0xhadock.gitlab.com:192.168.0.20 \\\n",
    "  -v /srv/gitlab-runner/config:/etc/gitlab-runner \\\n",
    "  -v /var/run/docker.sock:/var/run/docker.sock \\\n",
    "  gitlab/gitlab-runner:latest\n",
    "```"
   ]
  },
  {
   "cell_type": "markdown",
   "metadata": {},
   "source": [
    "puis entrer la commande suivante :"
   ]
  },
  {
   "cell_type": "markdown",
   "metadata": {},
   "source": [
    "```bash\n",
    "sudo docker exec -it gitlab-runner gitlab-runner register\n",
    "```"
   ]
  },
  {
   "cell_type": "markdown",
   "metadata": {},
   "source": [
    "```entrer l’adresse de l’instance gitlab : http://0xhadock.gitlab.com:8088```  \n",
    "```entrer le token : glrt-t1_igWASHu3WhpPkrfxs58b```  \n",
    "```entrer un executor : docker```  \n",
    "```entrer l’image docker par défaut : debian:latest```"
   ]
  },
  {
   "cell_type": "markdown",
   "metadata": {},
   "source": [
    "### Entrer dans le conteneur docker du runner"
   ]
  },
  {
   "cell_type": "markdown",
   "metadata": {},
   "source": [
    "```bash\n",
    "sudo docker exec -it gitlab-runner /bin/bash\n",
    "```"
   ]
  },
  {
   "cell_type": "markdown",
   "metadata": {},
   "source": [
    "### Installer vim"
   ]
  },
  {
   "cell_type": "markdown",
   "metadata": {},
   "source": [
    "```bash\n",
    "apt-get update && apt-get install -y vim\n",
    "```"
   ]
  },
  {
   "cell_type": "markdown",
   "metadata": {},
   "source": [
    "### Modifier les paramétres :"
   ]
  },
  {
   "cell_type": "markdown",
   "metadata": {},
   "source": [
    "```bash\n",
    "vim /etc/gitlab-runner/config.toml\n",
    "```"
   ]
  },
  {
   "cell_type": "markdown",
   "metadata": {},
   "source": [
    "```toml\n",
    "[[runners]]\n",
    "name = \"runner_00\"\n",
    "url = \"http://0xhadock.gitlab.com:8088\"\n",
    "id = 2\n",
    "token = \"glrt-t1_igWASHu3WhpPkrfxs58b\"\n",
    "token_obtained_at = 2024-10-29T15:34:50Z\n",
    "token_expires_at = 0001-01-01T00:00:00Z\n",
    "executor = \"docker\"\n",
    "[runners.custom_build_dir]\n",
    "[runners.cache]\n",
    "MaxUploadedArchiveSize = 0\n",
    "[runners.cache.s3]\n",
    "[runners.cache.gcs]\n",
    "[runners.cache.azure]\n",
    "[runners.docker]\n",
    "tls_verify = false\n",
    "image = \"docker:latest\"  # Changer à une image contenant Docker\n",
    "privileged = true          # Activer le mode privilégié\n",
    "disable_entrypoint_overwrite = false\n",
    "oom_kill_disable = false\n",
    "disable_cache = false\n",
    "extra_hosts = [\"0xhadock.gitlab.com:192.168.0.20\"]\n",
    "dns_search = [\"0xhadock.gitlab.com\"]\n",
    "volumes = [\"/cache\", \"/var/run/docker.sock:/var/run/docker.sock\"]  # Monter le socket Docker\n",
    "shm_size = 0\n",
    "network_mtu = 0\n",
    "```"
   ]
  },
  {
   "cell_type": "markdown",
   "metadata": {},
   "source": [
    "### Restart du conteneur \n",
    "\n",
    "```bash\n",
    "sudo docker restart gitlab-runner\n",
    "```"
   ]
  },
  {
   "cell_type": "markdown",
   "metadata": {},
   "source": [
    "### Test du runner "
   ]
  },
  {
   "cell_type": "markdown",
   "metadata": {},
   "source": [
    "```yaml\n",
    "stages:\n",
    "  - test\n",
    "\n",
    "test-job:\n",
    "  stage: test\n",
    "  tags:\n",
    "      - runner_00\n",
    "  script:\n",
    "    - echo \"Start ..\"\n",
    "    - sleep 60\n",
    "    - echo \"End!\"\n",
    "```"
   ]
  },
  {
   "cell_type": "markdown",
   "metadata": {},
   "source": []
  }
 ],
 "metadata": {
  "language_info": {
   "name": "python"
  }
 },
 "nbformat": 4,
 "nbformat_minor": 2
}
