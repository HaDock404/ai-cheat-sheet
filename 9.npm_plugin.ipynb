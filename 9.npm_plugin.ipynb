{
 "cells": [
  {
   "cell_type": "markdown",
   "metadata": {},
   "source": [
    "# Création de plugin avec npm"
   ]
  },
  {
   "cell_type": "markdown",
   "metadata": {},
   "source": [
    "Créer un projet de cette manière :  \n",
    "```bash\n",
    "npm create-component-lib nom-du-composant\n",
    "```"
   ]
  },
  {
   "cell_type": "markdown",
   "metadata": {},
   "source": [
    "commande en cas d'erreur qui fonctionne :  \n",
    "\n",
    "```bash\n",
    "npm install --save-dev @babel/cli\n",
    "```\n",
    "\n",
    "ou  \n",
    "\n",
    "```bash\n",
    "npm install --save-dev @babel/core @babel/cli\n",
    "```"
   ]
  },
  {
   "cell_type": "markdown",
   "metadata": {},
   "source": [
    "Vérification de la suppression de mauvaise version :  \n",
    "\n",
    "```bash\n",
    "npm uninstall babel-core\n",
    "```"
   ]
  },
  {
   "cell_type": "markdown",
   "metadata": {},
   "source": [
    "Dans le dossier lib mettre les composants à créer :  \n",
    "\n",
    "```jsx\n",
    "import React from \"react\";\n",
    "\n",
    "function Button() {\n",
    "  return <button>Click me</button>;\n",
    "}\n",
    "\n",
    "export default Button;\n",
    "```"
   ]
  },
  {
   "cell_type": "markdown",
   "metadata": {},
   "source": [
    "Dans le dossier lib mettre un fichier index.js permettant d'exporter les composants sur npm :  \n",
    "\n",
    "```jsx\n",
    "export { default as Text } from \"./Text\";\n",
    "export { default as Button } from \"./Button\";\n",
    "```"
   ]
  },
  {
   "cell_type": "markdown",
   "metadata": {},
   "source": [
    "Création du fichier ```.babelrc``` à la racine :  \n",
    "\n",
    "```json\n",
    "{\n",
    "  \"presets\": [\"@babel/preset-env\", \"@babel/preset-react\"]\n",
    "}\n",
    "```"
   ]
  },
  {
   "cell_type": "markdown",
   "metadata": {},
   "source": [
    "Avoir un fichier package.json à la racine :  \n",
    "\n",
    "```json\n",
    "{\n",
    "  \"name\": \"@hieroglyphs/react\",\n",
    "  \"version\": \"0.1.0\",\n",
    "  \"main\": \"dist/index.js\",\n",
    "  \"module\": \"dist/index.js\",\n",
    "  \"files\": [\n",
    "    \"dist\"\n",
    "  ],\n",
    "  \"scripts\": {\n",
    "    \"start\": \"react-scripts start\",\n",
    "    \"build-examples\": \"react-scripts build\",\n",
    "    \"test\": \"react-scripts test --env=jsdom\",\n",
    "    \"eject\": \"react-scripts eject\",\n",
    "    \"build\": \"rimraf dist && NODE_ENV=production babel src/lib --out-dir dist --copy-files --ignore __tests__,spec.js,test.js,__snapshots__\"\n",
    "  },\n",
    "  \"devDependencies\": {\n",
    "    \"@babel/cli\": \"^7.25.9\",\n",
    "    \"@babel/preset-env\": \"^7.25.9\",\n",
    "    \"@babel/preset-react\": \"^7.25.9\",\n",
    "    \"react\": \"^18.3.1\",\n",
    "    \"react-dom\": \"^18.3.1\",\n",
    "    \"react-scripts\": \"^5.0.1\",\n",
    "    \"rimraf\": \"^6.0.1\"\n",
    "  },\n",
    "  \"dependencies\": {\n",
    "    \"react-router-dom\": \"^6.28.0\"\n",
    "  },\n",
    "  \"browserslist\": {\n",
    "    \"production\": [\n",
    "      \">0.2%\",\n",
    "      \"not dead\",\n",
    "      \"not op_mini all\"\n",
    "    ],\n",
    "    \"development\": [\n",
    "      \"last 1 chrome version\",\n",
    "      \"last 1 firefox version\",\n",
    "      \"last 1 safari version\"\n",
    "    ]\n",
    "  }\n",
    "}\n",
    "```"
   ]
  },
  {
   "cell_type": "markdown",
   "metadata": {},
   "source": [
    "Configuration de Babel :  \n",
    "\n",
    "```bash\n",
    "npm install @babel/preset-env @babel/preset-react --save-dev\n",
    "```"
   ]
  },
  {
   "cell_type": "markdown",
   "metadata": {},
   "source": [
    "Faire la commande :  \n",
    "\n",
    "```bash\n",
    "npm run build\n",
    "```"
   ]
  },
  {
   "cell_type": "markdown",
   "metadata": {},
   "source": [
    "Publier le projet en public en ayant créé une organization correspondante sur le site npmjs :  \n",
    "\n",
    "```bash\n",
    "npm login\n",
    "````\n",
    "\n",
    "puis\n",
    "\n",
    "```bash\n",
    "npm publish --access public\n",
    "```"
   ]
  },
  {
   "cell_type": "markdown",
   "metadata": {},
   "source": [
    "# Utilisation du plugin dans un projet react"
   ]
  },
  {
   "cell_type": "markdown",
   "metadata": {},
   "source": [
    "Faire la commande :  \n",
    "\n",
    "```bash\n",
    "npm install @hieroglyphs.io/react\n",
    "```"
   ]
  },
  {
   "cell_type": "markdown",
   "metadata": {},
   "source": [
    "Et importer le composant dans le projet :  \n",
    "\n",
    "```jsx\n",
    "import React from 'react';\n",
    "import { Text } from '@hieroglyphs.io/react';\n",
    "\n",
    "function App() {\n",
    "  return (\n",
    "    <div>\n",
    "      <Text />\n",
    "    </div>\n",
    "  );\n",
    "}\n",
    "\n",
    "export default App;\n",
    "```"
   ]
  },
  {
   "cell_type": "markdown",
   "metadata": {},
   "source": []
  }
 ],
 "metadata": {
  "language_info": {
   "name": "python"
  }
 },
 "nbformat": 4,
 "nbformat_minor": 2
}
